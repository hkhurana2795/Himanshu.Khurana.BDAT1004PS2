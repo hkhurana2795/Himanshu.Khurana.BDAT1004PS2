{
 "cells": [
  {
   "cell_type": "code",
   "execution_count": null,
   "id": "149597e6",
   "metadata": {},
   "outputs": [],
   "source": [
    "Question 1\n",
    "Consider the following Python module:\n",
    "a = 0\n",
    "def b():\n",
    "global a\n",
    "a = c(a)\n",
    "def c(a):\n",
    "return a + 2\n",
    "After importing the module into the interpreter, you execute:\n",
    ">>> b()\n",
    ">>> b()\n",
    ">>> b()\n",
    ">>> a\n",
    "?\n",
    "What value is displayed when the last expression (a) is evaluated? Explain your Banswer by indicating what happens in every executed statement."
   ]
  },
  {
   "cell_type": "code",
   "execution_count": null,
   "id": "b08f00c6",
   "metadata": {},
   "outputs": [],
   "source": [
    "#Ans 1\n",
    "When evaluating the last expression a, the displayed value will be 6. This result can be explained by examining the sequence of executed statements:\n",
    "\n",
    "1. The b() function is called for the first time. Within this function:\n",
    "\n",
    "The variable a is defined as a global variable and initialized to 0.\n",
    "The function c(a) is invoked with a as an argument.\n",
    "Inside c(a), the argument a (which has a value of 0) is incremented by 2, resulting in 2.\n",
    "The value 2 is returned and assigned to the global variable a.\n",
    "\n",
    "2. The b() function is called for the second time. Within this function:\n",
    "\n",
    "The global variable a now holds the value 2 (from the previous execution of b()).\n",
    "The function c(a) is invoked with a as an argument.\n",
    "Inside c(a), the argument a (which has a value of 2) is incremented by 2, resulting in 4.\n",
    "The value 4 is returned and assigned to the global variable a.\n",
    "\n",
    "3. The b() function is called for the third time. Within this function:\n",
    "\n",
    "The global variable a now holds the value 4 (from the previous execution of b()).\n",
    "The function c(a) is invoked with a as an argument.\n",
    "Inside c(a), the argument a (which has a value of 4) is incremented by 2, resulting in 6.\n",
    "The value 6 is returned and assigned to the global variable a.\n",
    "\n",
    "4. Ultimately, when evaluating the last expression a, the global variable a has a value of 6 (from the previous execution of b()). Therefore, the output will be 6.\n"
   ]
  },
  {
   "cell_type": "code",
   "execution_count": null,
   "id": "1852429d",
   "metadata": {},
   "outputs": [],
   "source": [
    "Question 2\n",
    "Function fileLength(), given to you, takes the name of a file as input and returns\n",
    "the length of the file:\n",
    ">>> fileLength('midterm.py')\n",
    "284\n",
    ">>> fileLength('idterm.py')\n",
    "Traceback (most recent call last):\n",
    "File \"<pyshell#34>\", line 1, in <module>\n",
    "fileLength('idterm.py')\n",
    "File \"/Users/me/midterm.py\", line 3, in fileLength\n",
    "infile = open(filename)\n",
    "FileNotFoundError: [Errno 2] No such file or directory:\n",
    "'idterm.py'\n",
    "As shown above, if the file cannot be found by the interpreter or if it cannot be read\n",
    "as a text file, an exception will be raised. Modify function fileLength() so that a\n",
    "friendly message is printed instead:\n",
    ">>> fileLength('midterm.py')\n",
    "358\n",
    ">>> fileLength('idterm.py')\n",
    "File idterm.py not found."
   ]
  },
  {
   "cell_type": "code",
   "execution_count": 20,
   "id": "c2c9a9db",
   "metadata": {},
   "outputs": [],
   "source": [
    "#ANS 2\n",
    "def fileLength(filename):\n",
    "    try:\n",
    "        infile = open(filename)\n",
    "        contents = infile.read()\n",
    "        infile.close()\n",
    "        return len(contents)\n",
    "    except FileNotFoundError:\n",
    "        print(f\"File {filename} not found.\")\n",
    "    except IOError:\n",
    "        print(f\"Unable to read file {filename}.\")\n"
   ]
  },
  {
   "cell_type": "code",
   "execution_count": 21,
   "id": "e08af4b3",
   "metadata": {},
   "outputs": [
    {
     "data": {
      "text/plain": [
       "123"
      ]
     },
     "execution_count": 21,
     "metadata": {},
     "output_type": "execute_result"
    }
   ],
   "source": [
    "fileLength('C:/Users/Admin/Downloads/Filelength.txt')"
   ]
  },
  {
   "cell_type": "code",
   "execution_count": 22,
   "id": "d245d3ea",
   "metadata": {},
   "outputs": [
    {
     "name": "stdout",
     "output_type": "stream",
     "text": [
      "File C:/Users/Admin/Downloads/ilelength.txt not found.\n"
     ]
    }
   ],
   "source": [
    "fileLength('C:/Users/Admin/Downloads/ilelength.txt')"
   ]
  },
  {
   "cell_type": "code",
   "execution_count": null,
   "id": "395d53cf",
   "metadata": {},
   "outputs": [],
   "source": [
    "Question 3\n",
    "Write a class named Marsupial that can be used as shown below:\n",
    ">>> m = Marsupial()\n",
    ">>> m.put_in_pouch('doll')\n",
    ">>> m.put_in_pouch('firetruck')\n",
    ">>> m.put_in_pouch('kitten')\n",
    ">>> m.pouch_contents()\n",
    "['doll', 'firetruck', 'kitten']\n",
    "Now write a class named Kangaroo as a subclass of Marsupial that inherits all the\n",
    "attributes of Marsupial and also:\n",
    "a. extends the Marsupial __init__ constructor to take, as input, the\n",
    "coordinates x and y of the Kangaroo object,\n",
    "b. supports method jump that takes number values dx and dy as input and\n",
    "movesthe kangaroo by dx units along the x-axis and by dy units along the yaxis, and\n",
    "c. overloads the __str__ operator so it behaves as shown below.\n",
    ">>> k = Kangaroo(0,0)\n",
    ">>> print(k)\n",
    "I am a Kangaroo located at coordinates (0,0)\n",
    ">>> k.put_in_pouch('doll')\n",
    ">>> k.put_in_pouch('firetruck')\n",
    ">>> k.put_in_pouch('kitten')\n",
    ">>> k.pouch_contents()\n",
    "['doll', 'firetruck', 'kitten']\n",
    ">>> k.jump(1,0)\n",
    ">>> k.jump(1,0)\n",
    ">>> k.jump(1,0)\n",
    ">>> print(k)\n",
    "I am a Kangaroo located at coordinates (3,0)"
   ]
  },
  {
   "cell_type": "code",
   "execution_count": 23,
   "id": "33a504ec",
   "metadata": {},
   "outputs": [],
   "source": [
    "#Ans 3\n",
    "class Marsupial:\n",
    "    def __init__(self):\n",
    "        self.pouch = []\n",
    "    \n",
    "    def put_in_pouch(self, item):\n",
    "        self.pouch.append(item)\n",
    "    \n",
    "    def pouch_contents(self):\n",
    "        return self.pouch\n",
    "\n",
    "\n",
    "class Kangaroo(Marsupial):\n",
    "    def __init__(self, x, y):\n",
    "        super().__init__()\n",
    "        self.x = x\n",
    "        self.y = y\n",
    "    \n",
    "    def jump(self, dx, dy):\n",
    "        self.x += dx\n",
    "        self.y += dy\n",
    "    \n",
    "    def __str__(self):\n",
    "        return f\"I am a Kangaroo located at coordinates ({self.x},{self.y})\"\n"
   ]
  },
  {
   "cell_type": "code",
   "execution_count": 63,
   "id": "9bd95033",
   "metadata": {},
   "outputs": [
    {
     "name": "stdout",
     "output_type": "stream",
     "text": [
      "['doll', 'firetruck', 'kitten']\n",
      "I am a Kangaroo located at coordinates (0,0)\n",
      "['doll', 'firetruck', 'kitten']\n",
      "I am a Kangaroo located at coordinates (3,0)\n"
     ]
    }
   ],
   "source": [
    "m = Marsupial()\n",
    "m.put_in_pouch('doll')\n",
    "m.put_in_pouch('firetruck')\n",
    "m.put_in_pouch('kitten')\n",
    "print(m.pouch_contents())  \n",
    "\n",
    "k = Kangaroo(0, 0)\n",
    "print(k)  \n",
    "\n",
    "k.put_in_pouch('doll')\n",
    "k.put_in_pouch('firetruck')\n",
    "k.put_in_pouch('kitten')\n",
    "print(k.pouch_contents())  \n",
    "\n",
    "k.jump(1, 0)\n",
    "k.jump(1, 0)\n",
    "k.jump(1, 0)\n",
    "print(k)  "
   ]
  },
  {
   "cell_type": "code",
   "execution_count": null,
   "id": "125c37e4",
   "metadata": {},
   "outputs": [],
   "source": [
    "Question 4\n",
    "Write function collatz() that takes a positive integer x as input and prints the\n",
    "Collatz sequence starting at x. A Collatz sequence is obtained by repeatedly applying\n",
    "this rule to the previous number x in the sequence:\n",
    "x = {\n",
    "𝑥/2 𝑖𝑓 𝑥 𝑖𝑠 𝑒𝑣𝑒𝑛3𝑥\n",
    "+1 𝑖𝑓 𝑥 𝑖𝑠 𝑜𝑑𝑑\n",
    "Your function should stop when the sequence gets to number 1. Your\n",
    "implementation must be recursive, without any loops.\n",
    ">>> collatz(1)\n",
    "1\n",
    ">>> collatz(10)\n",
    "10\n",
    "5\n",
    "16\n",
    "8\n",
    "4\n",
    "2\n",
    "1"
   ]
  },
  {
   "cell_type": "code",
   "execution_count": 43,
   "id": "82cada5c",
   "metadata": {},
   "outputs": [],
   "source": [
    "#Ans 4\n",
    "def collatz(x):\n",
    "    print(x)\n",
    "    if x == 1:\n",
    "        return\n",
    "    elif x % 2 == 0:\n",
    "        collatz(x // 2)\n",
    "    else:\n",
    "        collatz(3 * x + 1)"
   ]
  },
  {
   "cell_type": "code",
   "execution_count": 44,
   "id": "9bc5763e",
   "metadata": {},
   "outputs": [
    {
     "name": "stdout",
     "output_type": "stream",
     "text": [
      "1\n"
     ]
    }
   ],
   "source": [
    "collatz(1)"
   ]
  },
  {
   "cell_type": "code",
   "execution_count": 45,
   "id": "559e0da9",
   "metadata": {},
   "outputs": [
    {
     "name": "stdout",
     "output_type": "stream",
     "text": [
      "10\n",
      "5\n",
      "16\n",
      "8\n",
      "4\n",
      "2\n",
      "1\n"
     ]
    }
   ],
   "source": [
    "collatz(10)"
   ]
  },
  {
   "cell_type": "code",
   "execution_count": null,
   "id": "dbdca710",
   "metadata": {},
   "outputs": [],
   "source": [
    "Question 5\n",
    "Write a recursive method binary() that takes a non-negative\n",
    "integer n and prints the binary representation of integer n.\n",
    ">>> binary(0)\n",
    "0\n",
    ">>> binary(1)\n",
    "1\n",
    ">>> binary(3)\n",
    "11\n",
    ">>> binary(9)\n",
    "1001"
   ]
  },
  {
   "cell_type": "code",
   "execution_count": 29,
   "id": "df315271",
   "metadata": {},
   "outputs": [],
   "source": [
    "#Ans 5\n",
    "def binary(n):\n",
    "    if n < 2:\n",
    "        print(n, end='')\n",
    "    else:\n",
    "        binary(n // 2)\n",
    "        print(n % 2, end='')"
   ]
  },
  {
   "cell_type": "code",
   "execution_count": 35,
   "id": "70bc4041",
   "metadata": {},
   "outputs": [
    {
     "name": "stdout",
     "output_type": "stream",
     "text": [
      "0"
     ]
    }
   ],
   "source": [
    "binary(0)"
   ]
  },
  {
   "cell_type": "code",
   "execution_count": 36,
   "id": "5d2644fd",
   "metadata": {},
   "outputs": [
    {
     "name": "stdout",
     "output_type": "stream",
     "text": [
      "1"
     ]
    }
   ],
   "source": [
    "binary(1)"
   ]
  },
  {
   "cell_type": "code",
   "execution_count": 37,
   "id": "d9cde763",
   "metadata": {},
   "outputs": [
    {
     "name": "stdout",
     "output_type": "stream",
     "text": [
      "11"
     ]
    }
   ],
   "source": [
    "binary(3)"
   ]
  },
  {
   "cell_type": "code",
   "execution_count": 38,
   "id": "30476f6d",
   "metadata": {},
   "outputs": [
    {
     "name": "stdout",
     "output_type": "stream",
     "text": [
      "1001"
     ]
    }
   ],
   "source": [
    "binary(9)"
   ]
  },
  {
   "cell_type": "code",
   "execution_count": null,
   "id": "a5a0e2fd",
   "metadata": {},
   "outputs": [],
   "source": [
    "Question 6\n",
    "Implement a class named HeadingParser that can be used to parse an HTML\n",
    "document, and retrieve and print all the headings in the document. You should\n",
    "implement your class as a subclass of HTMLParser, defined in Standard Library\n",
    "module html.parser. When fed a string containing HTML code, your class should\n",
    "print the headings, one per line and in the order in which they appear in the\n",
    "document.Each heading should be indented asfollows: an h1 heading should have\n",
    "indentation 0, and h2 heading should have indentation 1, etc. Test your\n",
    "implementation using w3c.html.\n",
    ">>> infile = open('w3c.html')\n",
    ">>> content = infile.read()\n",
    ">>> infile.close()\n",
    ">>> hp = HeadingParser()\n",
    ">>> hp.feed(content)\n",
    "W3C Mission\n",
    "Principles"
   ]
  },
  {
   "cell_type": "code",
   "execution_count": 46,
   "id": "b91d35a7",
   "metadata": {},
   "outputs": [],
   "source": [
    "#Ans 6\n",
    "from html.parser import HTMLParser\n",
    "\n",
    "\n",
    "class HeadingParser(HTMLParser):\n",
    "    def __init__(self):\n",
    "        super().__init__()\n",
    "        self.indentation = 0\n",
    "        self.inside_heading = False\n",
    "    \n",
    "    def handle_starttag(self, tag, attrs):\n",
    "        if tag.startswith('h') and len(tag) == 2 and tag[1].isdigit():\n",
    "            self.inside_heading = True\n",
    "            self.indentation = int(tag[1]) - 1\n",
    "    \n",
    "    def handle_endtag(self, tag):\n",
    "        if tag.startswith('h') and len(tag) == 2 and tag[1].isdigit():\n",
    "            self.inside_heading = False\n",
    "    \n",
    "    def handle_data(self, data):\n",
    "        if self.inside_heading:\n",
    "            print(' ' * self.indentation + data.strip())\n",
    "\n"
   ]
  },
  {
   "cell_type": "code",
   "execution_count": 47,
   "id": "57875d13",
   "metadata": {},
   "outputs": [
    {
     "name": "stdout",
     "output_type": "stream",
     "text": [
      "W3C Mission\n",
      " Principles\n"
     ]
    }
   ],
   "source": [
    "infile = open('C:/Users/Admin/Downloads/w3c.html')\n",
    "content = infile.read()\n",
    "infile.close()\n",
    "\n",
    "hp = HeadingParser()\n",
    "hp.feed(content)"
   ]
  },
  {
   "cell_type": "code",
   "execution_count": null,
   "id": "dc721db3",
   "metadata": {},
   "outputs": [],
   "source": [
    "Question 7\n",
    "Implement recursive function webdir() that takes as input: a URL (as a string) and\n",
    "non-negative integers depth and indent. Your function should visit every web\n",
    "page reachable from the starting URL web page in depth clicks or less, and print\n",
    "each web page's URL. As shown below, indentation, specified by indent, should\n",
    "be used to indicate the depth of a URL.\n",
    ">>>\n",
    "webdir('http://reed.cs.depaul.edu/lperkovic/csc242/test1.html'\n",
    ", 2, 0)\n",
    "http://reed.cs.depaul.edu/lperkovic/csc242/test1.html\n",
    "http://reed.cs.depaul.edu/lperkovic/csc242/test2.html\n",
    "http://reed.cs.depaul.edu/lperkovic/csc242/test4.html\n",
    "http://reed.cs.depaul.edu/lperkovic/csc242/test3.html\n",
    "http://reed.cs.depaul.edu/lperkovic/csc242/test4.html"
   ]
  },
  {
   "cell_type": "code",
   "execution_count": 52,
   "id": "8e34a449",
   "metadata": {},
   "outputs": [],
   "source": [
    "#Ans 7\n",
    "import requests\n",
    "from bs4 import BeautifulSoup\n",
    "\n",
    "\n",
    "def webdir(url, depth, indent, visited=None):\n",
    "    if visited is None:\n",
    "        visited = set()\n",
    "\n",
    "    if depth < 0 or any(url in visited_url or visited_url in url for visited_url in visited):\n",
    "        return\n",
    "\n",
    "    visited.add(url)\n",
    "    indent_str = ' ' * indent\n",
    "    print(indent_str + url)\n",
    "\n",
    "    try:\n",
    "        response = requests.get(url)\n",
    "        soup = BeautifulSoup(response.content, 'html.parser')\n",
    "        links = soup.find_all('a')\n",
    "\n",
    "        for link in links:\n",
    "            href = link.get('href')\n",
    "            if href.startswith('http'):\n",
    "                webdir(href, depth - 1, indent + 1, visited)\n",
    "\n",
    "    except requests.exceptions.RequestException:\n",
    "        return\n",
    "\n",
    "\n"
   ]
  },
  {
   "cell_type": "code",
   "execution_count": 55,
   "id": "f882bb82",
   "metadata": {},
   "outputs": [
    {
     "name": "stdout",
     "output_type": "stream",
     "text": [
      "http://reed.cs.depaul.edu/lperkovic/csc242/test1.html\n"
     ]
    }
   ],
   "source": [
    "webdir('http://reed.cs.depaul.edu/lperkovic/csc242/test1.html', 2, 0)"
   ]
  },
  {
   "cell_type": "code",
   "execution_count": null,
   "id": "3a9b6084",
   "metadata": {},
   "outputs": [],
   "source": [
    "Question 8\n",
    "Write SQL queries on the below database table that return:\n",
    "a) All the temperature data.\n",
    "b) All the cities, but without repetition.\n",
    "c) All the records for India.\n",
    "d) All the Fall records.\n",
    "e) The city, country, and season for which the average rainfall is between 200\n",
    "and 400 millimeters.\n",
    "f) The city and country for which the average Fall temperature is above 20\n",
    "degrees, in increasing temperature order.\n",
    "g) The total annual rainfall for Cairo.\n",
    "h) The total rainfall for each season."
   ]
  },
  {
   "cell_type": "code",
   "execution_count": 62,
   "id": "c18d955d",
   "metadata": {},
   "outputs": [
    {
     "name": "stdout",
     "output_type": "stream",
     "text": [
      "[(24.8,), (28.4,), (27.9,), (27.6,), (4.2,), (8.3,), (15.7,), (10.4,), (13.6,), (20.7,), (27.7,), (22.2,)]\n",
      "[('Mumbai',), ('London',), ('Cairo',)]\n",
      "[('Mumbai', 'India', 'Winter', 24.8, 5.9), ('Mumbai', 'India', 'Spring', 28.4, 16.2), ('Mumbai', 'India', 'Summer', 27.9, 1549.4), ('Mumbai', 'India', 'Fall', 27.6, 346.0)]\n",
      "[('Mumbai', 'India', 'Fall', 27.6, 346.0), ('London', 'United Kingdom', 'Fall', 10.4, 218.5), ('Cairo', 'Egypt', 'Fall', 22.2, 4.5)]\n",
      "[('London', 'United Kingdom', 'Fall'), ('London', 'United Kingdom', 'Winter'), ('Mumbai', 'India', 'Fall')]\n",
      "[('Cairo', 'Egypt'), ('Mumbai', 'India')]\n",
      "27.6\n",
      "[('Fall', 569.0), ('Spring', 192.29999999999998), ('Summer', 1706.5), ('Winter', 230.1)]\n"
     ]
    }
   ],
   "source": [
    "#Ans 8\n",
    "import sqlite3\n",
    "\n",
    "# Create an in-memory SQLite database\n",
    "conn = sqlite3.connect(':memory:')\n",
    "cursor = conn.cursor()\n",
    "\n",
    "# Create the table\n",
    "cursor.execute('''\n",
    "    CREATE TABLE Weather (\n",
    "        City TEXT,\n",
    "        Country TEXT,\n",
    "        Season TEXT,\n",
    "        Temperature REAL,\n",
    "        Rainfall REAL\n",
    "    )\n",
    "''')\n",
    "\n",
    "# Insert data into the table\n",
    "data = [\n",
    "    ('Mumbai', 'India', 'Winter', 24.8, 5.9),\n",
    "    ('Mumbai', 'India', 'Spring', 28.4, 16.2),\n",
    "    ('Mumbai', 'India', 'Summer', 27.9, 1549.4),\n",
    "    ('Mumbai', 'India', 'Fall', 27.6, 346.0),\n",
    "    ('London', 'United Kingdom', 'Winter', 4.2, 207.7),\n",
    "    ('London', 'United Kingdom', 'Spring', 8.3, 169.6),\n",
    "    ('London', 'United Kingdom', 'Summer', 15.7, 157.0),\n",
    "    ('London', 'United Kingdom', 'Fall', 10.4, 218.5),\n",
    "    ('Cairo', 'Egypt', 'Winter', 13.6, 16.5),\n",
    "    ('Cairo', 'Egypt', 'Spring', 20.7, 6.5),\n",
    "    ('Cairo', 'Egypt', 'Summer', 27.7, 0.1),\n",
    "    ('Cairo', 'Egypt', 'Fall', 22.2, 4.5)\n",
    "]\n",
    "\n",
    "cursor.executemany('INSERT INTO Weather VALUES (?, ?, ?, ?, ?)', data)\n",
    "conn.commit()\n",
    "\n",
    "# a) All the temperature data\n",
    "cursor.execute('SELECT Temperature FROM Weather')\n",
    "print(cursor.fetchall())\n",
    "\n",
    "# b) All the cities, but without repetition\n",
    "cursor.execute('SELECT DISTINCT City FROM Weather')\n",
    "print(cursor.fetchall())\n",
    "\n",
    "# c) All the records for India\n",
    "cursor.execute('SELECT * FROM Weather WHERE Country = \"India\"')\n",
    "print(cursor.fetchall())\n",
    "\n",
    "# d) All the Fall records\n",
    "cursor.execute('SELECT * FROM Weather WHERE Season = \"Fall\"')\n",
    "print(cursor.fetchall())\n",
    "\n",
    "# e) The city, country, and season for which the average rainfall is between 200 and 400 millimeters\n",
    "cursor.execute('''\n",
    "    SELECT City, Country, Season\n",
    "    FROM Weather\n",
    "    GROUP BY City, Country, Season\n",
    "    HAVING AVG(Rainfall) BETWEEN 200 AND 400\n",
    "''')\n",
    "print(cursor.fetchall())\n",
    "\n",
    "# f) The city and country for which the average Fall temperature is above 20 degrees, in increasing temperature order\n",
    "cursor.execute('''\n",
    "    SELECT City, Country\n",
    "    FROM Weather\n",
    "    WHERE Season = \"Fall\"\n",
    "    GROUP BY City, Country\n",
    "    HAVING AVG(Temperature) > 20\n",
    "    ORDER BY AVG(Temperature) ASC\n",
    "''')\n",
    "print(cursor.fetchall())\n",
    "\n",
    "# g) The total annual rainfall for Cairo\n",
    "cursor.execute('SELECT SUM(Rainfall) FROM Weather WHERE City = \"Cairo\"')\n",
    "print(cursor.fetchone()[0])\n",
    "\n",
    "# h) The total rainfall for each season\n",
    "cursor.execute('SELECT Season, SUM(Rainfall) FROM Weather GROUP BY Season')\n",
    "print(cursor.fetchall())\n",
    "\n",
    "# Close the connection\n",
    "conn.close()\n"
   ]
  },
  {
   "cell_type": "code",
   "execution_count": null,
   "id": "cd05ff7f",
   "metadata": {},
   "outputs": [],
   "source": [
    "Question 9\n",
    "Suppose list words is defined as follows:\n",
    ">>> words = ['The', 'quick', 'brown', 'fox', 'jumps', 'over',\n",
    "'the', 'lazy', 'dog']\n",
    "Write list comprehension expressions that use list words and generate the following\n",
    "lists:\n",
    "a) ['THE', 'QUICK', 'BROWN', 'FOX', 'JUMPS', 'OVER', 'THE',\n",
    "'LAZY', 'DOG']\n",
    "b) ['the', 'quick', 'brown', 'fox', 'jumps', 'over', 'the',\n",
    "'lazy', 'dog']\n",
    "c) [3, 5, 5, 3, 5, 4, 3, 4, 3] (the list of lengths of words in list\n",
    "words).\n",
    "d) [['THE', 'the', 3], ['QUICK', 'quick', 5], ['BROWN',\n",
    "'brown', 5], ['FOX', 'fox', 3], ['JUMPS', 'jumps', 5],\n",
    "['OVER', 'over', 4], ['THE', 'the', 3], ['LAZY', 'lazy',4], ['DOG', 'dog', 3]] (the list containing a list for every word of list\n",
    "words, where each list contains the word in uppercase and lowercase and the\n",
    "length of the word.)\n",
    "e) ['The', 'quick', 'brown', 'fox', 'jumps', 'over', 'the',\n",
    "'lazy', 'dog"
   ]
  },
  {
   "cell_type": "code",
   "execution_count": 57,
   "id": "5aa6750f",
   "metadata": {},
   "outputs": [
    {
     "name": "stdout",
     "output_type": "stream",
     "text": [
      "['THE', 'QUICK', 'BROWN', 'FOX', 'JUMPS', 'OVER', 'THE', 'LAZY', 'DOG']\n"
     ]
    }
   ],
   "source": [
    "#Ans 9\n",
    "#A)\n",
    "words = ['The', 'quick', 'brown', 'fox', 'jumps', 'over', 'the', 'lazy', 'dog']\n",
    "uppercase_words = [word.upper() for word in words]\n",
    "print(uppercase_words)"
   ]
  },
  {
   "cell_type": "code",
   "execution_count": 58,
   "id": "e1d7f33f",
   "metadata": {},
   "outputs": [
    {
     "name": "stdout",
     "output_type": "stream",
     "text": [
      "['the', 'quick', 'brown', 'fox', 'jumps', 'over', 'the', 'lazy', 'dog']\n"
     ]
    }
   ],
   "source": [
    "#B)\n",
    "words = ['The', 'quick', 'brown', 'fox', 'jumps', 'over', 'the', 'lazy', 'dog']\n",
    "lowercase_words = [word.lower() for word in words]\n",
    "print(lowercase_words)"
   ]
  },
  {
   "cell_type": "code",
   "execution_count": 59,
   "id": "8b5dcb51",
   "metadata": {},
   "outputs": [
    {
     "name": "stdout",
     "output_type": "stream",
     "text": [
      "[3, 5, 5, 3, 5, 4, 3, 4, 3]\n"
     ]
    }
   ],
   "source": [
    "#C)\n",
    "words = ['The', 'quick', 'brown', 'fox', 'jumps', 'over', 'the', 'lazy', 'dog']\n",
    "word_lengths = [len(word) for word in words]\n",
    "print(word_lengths)\n"
   ]
  },
  {
   "cell_type": "code",
   "execution_count": 60,
   "id": "f2b7ca7e",
   "metadata": {},
   "outputs": [
    {
     "name": "stdout",
     "output_type": "stream",
     "text": [
      "[['THE', 'the', 3], ['QUICK', 'quick', 5], ['BROWN', 'brown', 5], ['FOX', 'fox', 3], ['JUMPS', 'jumps', 5], ['OVER', 'over', 4], ['THE', 'the', 3], ['LAZY', 'lazy', 4], ['DOG', 'dog', 3]]\n"
     ]
    }
   ],
   "source": [
    "#D\n",
    "words = ['The', 'quick', 'brown', 'fox', 'jumps', 'over', 'the', 'lazy', 'dog']\n",
    "word_info = [[word.upper(), word.lower(), len(word)] for word in words]\n",
    "print(word_info)"
   ]
  },
  {
   "cell_type": "code",
   "execution_count": 61,
   "id": "9033f013",
   "metadata": {},
   "outputs": [
    {
     "name": "stdout",
     "output_type": "stream",
     "text": [
      "['quick', 'brown', 'jumps', 'over', 'lazy']\n"
     ]
    }
   ],
   "source": [
    "#E\n",
    "words = ['The', 'quick', 'brown', 'fox', 'jumps', 'over', 'the', 'lazy', 'dog']\n",
    "long_words = [word for word in words if len(word) >= 4]\n",
    "print(long_words)"
   ]
  },
  {
   "cell_type": "code",
   "execution_count": null,
   "id": "972b19ff",
   "metadata": {},
   "outputs": [],
   "source": []
  }
 ],
 "metadata": {
  "kernelspec": {
   "display_name": "Python 3 (ipykernel)",
   "language": "python",
   "name": "python3"
  },
  "language_info": {
   "codemirror_mode": {
    "name": "ipython",
    "version": 3
   },
   "file_extension": ".py",
   "mimetype": "text/x-python",
   "name": "python",
   "nbconvert_exporter": "python",
   "pygments_lexer": "ipython3",
   "version": "3.10.9"
  }
 },
 "nbformat": 4,
 "nbformat_minor": 5
}
